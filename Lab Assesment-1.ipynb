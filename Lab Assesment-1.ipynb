{
 "cells": [
  {
   "cell_type": "markdown",
   "metadata": {},
   "source": [
    "## profit/loss calculation"
   ]
  },
  {
   "cell_type": "code",
   "execution_count": null,
   "metadata": {},
   "outputs": [],
   "source": [
    "cp= float(input(\"enter cost price :\"))\n",
    "sp = float(input(\"enter selling price:\"))\n",
    "profit = sp-cp\n",
    "loss = cp-sp\n",
    "if cp > sp:\n",
    "    print(\"loss\")\n",
    "    print(\"loss percentage is\",loss)\n",
    "elif cp<sp:\n",
    "    print(\"profit\")\n",
    "    print(\"profit percentage is {0:.2f}\".format(profit))\n",
    "else:\n",
    "    print(\"neither profit nor loss\")\n"
   ]
  },
  {
   "cell_type": "markdown",
   "metadata": {},
   "source": [
    "## simple and compound calculation"
   ]
  },
  {
   "cell_type": "code",
   "execution_count": null,
   "metadata": {},
   "outputs": [],
   "source": [
    "p=int(input(\"enter principal amount : \"))\n",
    "n=int(input(\"enter the year:\"))\n",
    "r=float(input(\"enter the rate of intrest\"))\n",
    "i=float(input(\"enter the installment\"))\n",
    "pnr=p*n*r\n",
    "si= (pnr)/100\n",
    "ci = p*((1+r/(100*i))**(i*n))-p\n",
    "\n",
    "print(si)\n",
    "print(\"compund interest is {0:.2f}\".format(ci))"
   ]
  },
  {
   "cell_type": "markdown",
   "metadata": {},
   "source": [
    "## string-nummber validation"
   ]
  },
  {
   "cell_type": "code",
   "execution_count": null,
   "metadata": {},
   "outputs": [],
   "source": [
    "strnum=input(\"Enter a long number to verify:\")\n",
    "count = len(strnum)\n",
    "if count%2!=0:\n",
    "    digi=int(input(\"Enter a digit to validate:\"))\n",
    "    if strnum[count//2]==str(digi):\n",
    "        print(\"string is validated\")\n",
    "    else:\n",
    "        print(\"string not validated\")\n",
    "else:\n",
    "    print(\"please enter odd number of digits to verify\")"
   ]
  },
  {
   "cell_type": "markdown",
   "metadata": {},
   "source": [
    "## phonebook number check"
   ]
  },
  {
   "cell_type": "code",
   "execution_count": null,
   "metadata": {},
   "outputs": [],
   "source": [
    "num= int(input(\"enter the number\"))\n",
    "phbook={}\n",
    "for i in range(num):\n",
    "    name=input(\"enter name {0}:\".format(i+1))\n",
    "    num=int(input(\"enter number {0}:\".format(i+1)))\n",
    "    phbook[name]=num\n",
    "print(phbook)\n",
    "\n",
    "val= input(\"enter the number\")\n",
    "val=print(phbook.values())"
   ]
  },
  {
   "cell_type": "code",
   "execution_count": null,
   "metadata": {},
   "outputs": [],
   "source": []
  }
 ],
 "metadata": {
  "kernelspec": {
   "display_name": "Python 3",
   "language": "python",
   "name": "python3"
  },
  "language_info": {
   "codemirror_mode": {
    "name": "ipython",
    "version": 3
   },
   "file_extension": ".py",
   "mimetype": "text/x-python",
   "name": "python",
   "nbconvert_exporter": "python",
   "pygments_lexer": "ipython3",
   "version": "3.8.5"
  }
 },
 "nbformat": 4,
 "nbformat_minor": 4
}
